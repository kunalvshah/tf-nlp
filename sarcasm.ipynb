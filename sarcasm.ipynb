{
 "cells": [
  {
   "cell_type": "code",
   "execution_count": 1,
   "metadata": {},
   "outputs": [
    {
     "name": "stdout",
     "output_type": "stream",
     "text": [
      "2.0.0\n"
     ]
    }
   ],
   "source": [
    "# https://www.kaggle.com/rmisra/news-headlines-dataset-for-sarcasm-detection/home\n",
    "import json\n",
    "import tensorflow as tf\n",
    "print(tf.__version__)\n",
    "import numpy as np\n",
    "from tensorflow.keras.preprocessing.text import Tokenizer\n",
    "from tensorflow.keras.preprocessing.sequence import pad_sequences\n"
   ]
  },
  {
   "cell_type": "code",
   "execution_count": 2,
   "metadata": {},
   "outputs": [],
   "source": [
    "vocab_size = 10000\n",
    "embedding_dim = 16\n",
    "max_length = 32\n",
    "trunc_type = \"post\"\n",
    "oov_tok = \"<OOV>\"\n",
    "training_size = 20000\n",
    "padding_type = \"post\""
   ]
  },
  {
   "cell_type": "code",
   "execution_count": 3,
   "metadata": {},
   "outputs": [],
   "source": [
    "with open(\"./sarcasm.json\") as f:\n",
    "    datastore = json.load(f)"
   ]
  },
  {
   "cell_type": "code",
   "execution_count": 4,
   "metadata": {},
   "outputs": [],
   "source": [
    "sentences = []\n",
    "labels = []\n",
    "urls = []"
   ]
  },
  {
   "cell_type": "code",
   "execution_count": 5,
   "metadata": {},
   "outputs": [],
   "source": [
    "for item in datastore:\n",
    "    sentences.append(item['headline'])\n",
    "    labels.append(item['is_sarcastic'])\n",
    "    urls.append(item['article_link'])"
   ]
  },
  {
   "cell_type": "code",
   "execution_count": 6,
   "metadata": {},
   "outputs": [],
   "source": [
    "training_sentences = sentences[0:training_size]\n",
    "testing_sentences =  sentences[training_size:]\n",
    "\n",
    "training_labels = labels[0:training_size]\n",
    "testing_labels = labels[training_size:]"
   ]
  },
  {
   "cell_type": "code",
   "execution_count": 7,
   "metadata": {},
   "outputs": [],
   "source": [
    "tokenizer = Tokenizer(num_words=vocab_size, oov_token = oov_tok)\n",
    "tokenizer.fit_on_texts(training_sentences)\n",
    "\n",
    "word_index = tokenizer.word_index\n",
    "\n",
    "training_sequences = tokenizer.texts_to_sequences(training_sentences)\n",
    "training_padded = pad_sequences(training_sequences, maxlen=max_length, padding=padding_type, truncating=trunc_type)\n",
    "\n",
    "testing_sequences = tokenizer.texts_to_sequences(testing_sentences)\n",
    "testing_padded = pad_sequences(testing_sequences, maxlen=max_length, padding=padding_type, truncating=trunc_type)\n"
   ]
  },
  {
   "cell_type": "code",
   "execution_count": 16,
   "metadata": {},
   "outputs": [],
   "source": [
    "model = tf.keras.Sequential([\n",
    "    tf.keras.layers.Embedding(vocab_size, embedding_dim, input_length=max_length),\n",
    "    tf.keras.layers.GlobalAveragePooling1D(),\n",
    "    tf.keras.layers.Dense(24, activation = \"relu\"),\n",
    "    tf.keras.layers.Dense(1, activation = \"sigmoid\")\n",
    "])\n",
    "\n",
    "model.compile(loss='binary_crossentropy', optimizer = 'adam', metric=['acc'])"
   ]
  },
  {
   "cell_type": "code",
   "execution_count": 17,
   "metadata": {},
   "outputs": [
    {
     "name": "stdout",
     "output_type": "stream",
     "text": [
      "Model: \"sequential_1\"\n",
      "_________________________________________________________________\n",
      "Layer (type)                 Output Shape              Param #   \n",
      "=================================================================\n",
      "embedding_1 (Embedding)      (None, 32, 16)            160000    \n",
      "_________________________________________________________________\n",
      "global_average_pooling1d_1 ( (None, 16)                0         \n",
      "_________________________________________________________________\n",
      "dense_2 (Dense)              (None, 24)                408       \n",
      "_________________________________________________________________\n",
      "dense_3 (Dense)              (None, 1)                 25        \n",
      "=================================================================\n",
      "Total params: 160,433\n",
      "Trainable params: 160,433\n",
      "Non-trainable params: 0\n",
      "_________________________________________________________________\n"
     ]
    }
   ],
   "source": [
    "model.summary()"
   ]
  },
  {
   "cell_type": "code",
   "execution_count": 18,
   "metadata": {},
   "outputs": [
    {
     "name": "stdout",
     "output_type": "stream",
     "text": [
      "Train on 20000 samples, validate on 6709 samples\n",
      "Epoch 1/30\n",
      "20000/20000 - 2s - loss: 0.5728 - val_loss: 0.4013\n",
      "Epoch 2/30\n",
      "20000/20000 - 2s - loss: 0.3144 - val_loss: 0.3438\n",
      "Epoch 3/30\n",
      "20000/20000 - 2s - loss: 0.2352 - val_loss: 0.3446\n",
      "Epoch 4/30\n",
      "20000/20000 - 2s - loss: 0.1889 - val_loss: 0.3638\n",
      "Epoch 5/30\n",
      "20000/20000 - 2s - loss: 0.1572 - val_loss: 0.3925\n",
      "Epoch 6/30\n",
      "20000/20000 - 2s - loss: 0.1341 - val_loss: 0.4280\n",
      "Epoch 7/30\n",
      "20000/20000 - 2s - loss: 0.1144 - val_loss: 0.4596\n",
      "Epoch 8/30\n",
      "20000/20000 - 2s - loss: 0.0989 - val_loss: 0.5003\n",
      "Epoch 9/30\n",
      "20000/20000 - 2s - loss: 0.0869 - val_loss: 0.5524\n",
      "Epoch 10/30\n",
      "20000/20000 - 2s - loss: 0.0749 - val_loss: 0.6035\n",
      "Epoch 11/30\n",
      "20000/20000 - 2s - loss: 0.0660 - val_loss: 0.6427\n",
      "Epoch 12/30\n",
      "20000/20000 - 2s - loss: 0.0574 - val_loss: 0.6980\n",
      "Epoch 13/30\n",
      "20000/20000 - 2s - loss: 0.0498 - val_loss: 0.7725\n",
      "Epoch 14/30\n",
      "20000/20000 - 2s - loss: 0.0433 - val_loss: 0.8223\n",
      "Epoch 15/30\n",
      "20000/20000 - 2s - loss: 0.0395 - val_loss: 0.8688\n",
      "Epoch 16/30\n",
      "20000/20000 - 2s - loss: 0.0348 - val_loss: 0.9421\n",
      "Epoch 17/30\n",
      "20000/20000 - 2s - loss: 0.0313 - val_loss: 1.0318\n",
      "Epoch 18/30\n",
      "20000/20000 - 2s - loss: 0.0273 - val_loss: 1.0655\n",
      "Epoch 19/30\n",
      "20000/20000 - 2s - loss: 0.0228 - val_loss: 1.1044\n",
      "Epoch 20/30\n",
      "20000/20000 - 2s - loss: 0.0205 - val_loss: 1.1810\n",
      "Epoch 21/30\n",
      "20000/20000 - 2s - loss: 0.0182 - val_loss: 1.2270\n",
      "Epoch 22/30\n",
      "20000/20000 - 2s - loss: 0.0162 - val_loss: 1.3034\n",
      "Epoch 23/30\n",
      "20000/20000 - 2s - loss: 0.0148 - val_loss: 1.4024\n",
      "Epoch 24/30\n",
      "20000/20000 - 2s - loss: 0.0140 - val_loss: 1.4855\n",
      "Epoch 25/30\n",
      "20000/20000 - 2s - loss: 0.0133 - val_loss: 1.5366\n",
      "Epoch 26/30\n",
      "20000/20000 - 2s - loss: 0.0123 - val_loss: 1.5387\n",
      "Epoch 27/30\n",
      "20000/20000 - 2s - loss: 0.0110 - val_loss: 1.6576\n",
      "Epoch 28/30\n",
      "20000/20000 - 2s - loss: 0.0096 - val_loss: 1.6711\n",
      "Epoch 29/30\n",
      "20000/20000 - 2s - loss: 0.0083 - val_loss: 1.7141\n",
      "Epoch 30/30\n",
      "20000/20000 - 2s - loss: 0.0072 - val_loss: 1.8074\n"
     ]
    }
   ],
   "source": [
    "num_epochs = 30\n",
    "\n",
    "training_padded_final = np.array(training_padded)\n",
    "training_labels_final = np.array(training_labels)\n",
    "testing_padded_final = np.array(testing_padded)\n",
    "testing_labels_final = np.array(testing_labels)\n",
    "\n",
    "\n",
    "\n",
    "history = model.fit(training_padded_final, \n",
    "                    training_labels_final, \n",
    "                    epochs = num_epochs, \n",
    "                    validation_data=(testing_padded_final, testing_labels_final),\n",
    "                    verbose=2)"
   ]
  },
  {
   "cell_type": "code",
   "execution_count": 19,
   "metadata": {},
   "outputs": [
    {
     "ename": "KeyError",
     "evalue": "'acc'",
     "output_type": "error",
     "traceback": [
      "\u001b[0;31m---------------------------------------------------------------------------\u001b[0m",
      "\u001b[0;31mKeyError\u001b[0m                                  Traceback (most recent call last)",
      "\u001b[0;32m<ipython-input-19-13053b29a23f>\u001b[0m in \u001b[0;36m<module>\u001b[0;34m\u001b[0m\n\u001b[1;32m      9\u001b[0m     \u001b[0mplt\u001b[0m\u001b[0;34m.\u001b[0m\u001b[0mshow\u001b[0m\u001b[0;34m(\u001b[0m\u001b[0;34m)\u001b[0m\u001b[0;34m\u001b[0m\u001b[0;34m\u001b[0m\u001b[0m\n\u001b[1;32m     10\u001b[0m \u001b[0;34m\u001b[0m\u001b[0m\n\u001b[0;32m---> 11\u001b[0;31m \u001b[0mplot_graph\u001b[0m\u001b[0;34m(\u001b[0m\u001b[0mhistory\u001b[0m\u001b[0;34m,\u001b[0m \u001b[0;34m\"acc\"\u001b[0m\u001b[0;34m)\u001b[0m\u001b[0;34m\u001b[0m\u001b[0;34m\u001b[0m\u001b[0m\n\u001b[0m\u001b[1;32m     12\u001b[0m \u001b[0mplot_graph\u001b[0m\u001b[0;34m(\u001b[0m\u001b[0mhistory\u001b[0m\u001b[0;34m,\u001b[0m \u001b[0;34m\"loss\"\u001b[0m\u001b[0;34m)\u001b[0m\u001b[0;34m\u001b[0m\u001b[0;34m\u001b[0m\u001b[0m\n",
      "\u001b[0;32m<ipython-input-19-13053b29a23f>\u001b[0m in \u001b[0;36mplot_graph\u001b[0;34m(history, string)\u001b[0m\n\u001b[1;32m      2\u001b[0m \u001b[0;34m\u001b[0m\u001b[0m\n\u001b[1;32m      3\u001b[0m \u001b[0;32mdef\u001b[0m \u001b[0mplot_graph\u001b[0m\u001b[0;34m(\u001b[0m\u001b[0mhistory\u001b[0m\u001b[0;34m,\u001b[0m \u001b[0mstring\u001b[0m\u001b[0;34m)\u001b[0m\u001b[0;34m:\u001b[0m\u001b[0;34m\u001b[0m\u001b[0;34m\u001b[0m\u001b[0m\n\u001b[0;32m----> 4\u001b[0;31m     \u001b[0mplt\u001b[0m\u001b[0;34m.\u001b[0m\u001b[0mplot\u001b[0m\u001b[0;34m(\u001b[0m\u001b[0mhistory\u001b[0m\u001b[0;34m.\u001b[0m\u001b[0mhistory\u001b[0m\u001b[0;34m[\u001b[0m\u001b[0mstring\u001b[0m\u001b[0;34m]\u001b[0m\u001b[0;34m)\u001b[0m\u001b[0;34m\u001b[0m\u001b[0;34m\u001b[0m\u001b[0m\n\u001b[0m\u001b[1;32m      5\u001b[0m     \u001b[0mplt\u001b[0m\u001b[0;34m.\u001b[0m\u001b[0mplot\u001b[0m\u001b[0;34m(\u001b[0m\u001b[0mhistory\u001b[0m\u001b[0;34m.\u001b[0m\u001b[0mhistory\u001b[0m\u001b[0;34m[\u001b[0m\u001b[0;34m'val_'\u001b[0m \u001b[0;34m+\u001b[0m \u001b[0mstring\u001b[0m\u001b[0;34m]\u001b[0m\u001b[0;34m)\u001b[0m\u001b[0;34m\u001b[0m\u001b[0;34m\u001b[0m\u001b[0m\n\u001b[1;32m      6\u001b[0m     \u001b[0mplt\u001b[0m\u001b[0;34m.\u001b[0m\u001b[0mxlabel\u001b[0m\u001b[0;34m(\u001b[0m\u001b[0;34m'Epochs'\u001b[0m\u001b[0;34m)\u001b[0m\u001b[0;34m\u001b[0m\u001b[0;34m\u001b[0m\u001b[0m\n",
      "\u001b[0;31mKeyError\u001b[0m: 'acc'"
     ]
    }
   ],
   "source": [
    "import matplotlib.pyplot as plt\n",
    "\n",
    "def plot_graph(history, string):\n",
    "    plt.plot(history.history[string])\n",
    "    plt.plot(history.history['val_' + string])\n",
    "    plt.xlabel('Epochs')\n",
    "    plt.ylabel(string)\n",
    "    plt.legend([string, 'val_' + string])\n",
    "    plt.show()\n",
    "\n",
    "plot_graph(history, \"acc\")\n",
    "plot_graph(history, \"loss\")"
   ]
  }
 ],
 "metadata": {
  "kernelspec": {
   "display_name": "Python 3",
   "language": "python",
   "name": "python3"
  },
  "language_info": {
   "codemirror_mode": {
    "name": "ipython",
    "version": 3
   },
   "file_extension": ".py",
   "mimetype": "text/x-python",
   "name": "python",
   "nbconvert_exporter": "python",
   "pygments_lexer": "ipython3",
   "version": "3.6.9"
  }
 },
 "nbformat": 4,
 "nbformat_minor": 4
}
